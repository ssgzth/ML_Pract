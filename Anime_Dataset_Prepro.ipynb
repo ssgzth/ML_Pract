{
  "nbformat": 4,
  "nbformat_minor": 0,
  "metadata": {
    "colab": {
      "provenance": [],
      "authorship_tag": "ABX9TyPL7N09oB19qLEAiCw0OlIM",
      "include_colab_link": true
    },
    "kernelspec": {
      "name": "python3",
      "display_name": "Python 3"
    },
    "language_info": {
      "name": "python"
    }
  },
  "cells": [
    {
      "cell_type": "markdown",
      "metadata": {
        "id": "view-in-github",
        "colab_type": "text"
      },
      "source": [
        "<a href=\"https://colab.research.google.com/github/ssgzth/ML_Pract/blob/main/Anime_Dataset_Prepro.ipynb\" target=\"_parent\"><img src=\"https://colab.research.google.com/assets/colab-badge.svg\" alt=\"Open In Colab\"/></a>"
      ]
    },
    {
      "cell_type": "code",
      "execution_count": 21,
      "metadata": {
        "colab": {
          "base_uri": "https://localhost:8080/",
          "height": 337
        },
        "id": "sNP-Q24fKq30",
        "outputId": "67f37b5d-a50e-4f2e-db8a-1247feb76aac"
      },
      "outputs": [
        {
          "output_type": "execute_result",
          "data": {
            "text/plain": [
              "                                               Anime  \\\n",
              "0   Re:Zero kara Hajimeru Isekai Seikatsu 2nd Season   \n",
              "1                               Kanojo, Okarishimasu   \n",
              "2                             The God of High School   \n",
              "3  Maou Gakuin no Futekigousha: Shijou Saikyou no...   \n",
              "4                     Enen no Shouboutai: Ni no Shou   \n",
              "\n",
              "                                             Genre  \\\n",
              "0                 ['Drama', 'Fantasy', 'Suspense']   \n",
              "1                            ['Comedy', 'Romance']   \n",
              "2  ['Action', 'Fantasy', 'Sci-Fi', 'Supernatural']   \n",
              "3                            ['Action', 'Fantasy']   \n",
              "4                       ['Action', 'Supernatural']   \n",
              "\n",
              "                                         Description             Studio  \\\n",
              "0  A reunion that was supposed to spell the arriv...          White Fox   \n",
              "1  Kazuya Kinoshita is a 20-year-old college stud...  TMS Entertainment   \n",
              "2  The \"God of High School\" tournament has begun,...              MAPPA   \n",
              "3  In the distant past, a war between humans and ...       SILVER LINK.   \n",
              "4  After his confrontation in the Nether with his...   David Production   \n",
              "\n",
              "           Year  Rating  \n",
              "0   Jul 8, 2020    8.37  \n",
              "1  Jul 11, 2020     NaN  \n",
              "2   Jul 6, 2020     NaN  \n",
              "3   Jul 4, 2020     NaN  \n",
              "4   Jul 4, 2020     NaN  "
            ],
            "text/html": [
              "\n",
              "  <div id=\"df-5e9c9f2b-8174-492e-bd5d-5bdf2df8ff6a\">\n",
              "    <div class=\"colab-df-container\">\n",
              "      <div>\n",
              "<style scoped>\n",
              "    .dataframe tbody tr th:only-of-type {\n",
              "        vertical-align: middle;\n",
              "    }\n",
              "\n",
              "    .dataframe tbody tr th {\n",
              "        vertical-align: top;\n",
              "    }\n",
              "\n",
              "    .dataframe thead th {\n",
              "        text-align: right;\n",
              "    }\n",
              "</style>\n",
              "<table border=\"1\" class=\"dataframe\">\n",
              "  <thead>\n",
              "    <tr style=\"text-align: right;\">\n",
              "      <th></th>\n",
              "      <th>Anime</th>\n",
              "      <th>Genre</th>\n",
              "      <th>Description</th>\n",
              "      <th>Studio</th>\n",
              "      <th>Year</th>\n",
              "      <th>Rating</th>\n",
              "    </tr>\n",
              "  </thead>\n",
              "  <tbody>\n",
              "    <tr>\n",
              "      <th>0</th>\n",
              "      <td>Re:Zero kara Hajimeru Isekai Seikatsu 2nd Season</td>\n",
              "      <td>['Drama', 'Fantasy', 'Suspense']</td>\n",
              "      <td>A reunion that was supposed to spell the arriv...</td>\n",
              "      <td>White Fox</td>\n",
              "      <td>Jul 8, 2020</td>\n",
              "      <td>8.37</td>\n",
              "    </tr>\n",
              "    <tr>\n",
              "      <th>1</th>\n",
              "      <td>Kanojo, Okarishimasu</td>\n",
              "      <td>['Comedy', 'Romance']</td>\n",
              "      <td>Kazuya Kinoshita is a 20-year-old college stud...</td>\n",
              "      <td>TMS Entertainment</td>\n",
              "      <td>Jul 11, 2020</td>\n",
              "      <td>NaN</td>\n",
              "    </tr>\n",
              "    <tr>\n",
              "      <th>2</th>\n",
              "      <td>The God of High School</td>\n",
              "      <td>['Action', 'Fantasy', 'Sci-Fi', 'Supernatural']</td>\n",
              "      <td>The \"God of High School\" tournament has begun,...</td>\n",
              "      <td>MAPPA</td>\n",
              "      <td>Jul 6, 2020</td>\n",
              "      <td>NaN</td>\n",
              "    </tr>\n",
              "    <tr>\n",
              "      <th>3</th>\n",
              "      <td>Maou Gakuin no Futekigousha: Shijou Saikyou no...</td>\n",
              "      <td>['Action', 'Fantasy']</td>\n",
              "      <td>In the distant past, a war between humans and ...</td>\n",
              "      <td>SILVER LINK.</td>\n",
              "      <td>Jul 4, 2020</td>\n",
              "      <td>NaN</td>\n",
              "    </tr>\n",
              "    <tr>\n",
              "      <th>4</th>\n",
              "      <td>Enen no Shouboutai: Ni no Shou</td>\n",
              "      <td>['Action', 'Supernatural']</td>\n",
              "      <td>After his confrontation in the Nether with his...</td>\n",
              "      <td>David Production</td>\n",
              "      <td>Jul 4, 2020</td>\n",
              "      <td>NaN</td>\n",
              "    </tr>\n",
              "  </tbody>\n",
              "</table>\n",
              "</div>\n",
              "      <button class=\"colab-df-convert\" onclick=\"convertToInteractive('df-5e9c9f2b-8174-492e-bd5d-5bdf2df8ff6a')\"\n",
              "              title=\"Convert this dataframe to an interactive table.\"\n",
              "              style=\"display:none;\">\n",
              "        \n",
              "  <svg xmlns=\"http://www.w3.org/2000/svg\" height=\"24px\"viewBox=\"0 0 24 24\"\n",
              "       width=\"24px\">\n",
              "    <path d=\"M0 0h24v24H0V0z\" fill=\"none\"/>\n",
              "    <path d=\"M18.56 5.44l.94 2.06.94-2.06 2.06-.94-2.06-.94-.94-2.06-.94 2.06-2.06.94zm-11 1L8.5 8.5l.94-2.06 2.06-.94-2.06-.94L8.5 2.5l-.94 2.06-2.06.94zm10 10l.94 2.06.94-2.06 2.06-.94-2.06-.94-.94-2.06-.94 2.06-2.06.94z\"/><path d=\"M17.41 7.96l-1.37-1.37c-.4-.4-.92-.59-1.43-.59-.52 0-1.04.2-1.43.59L10.3 9.45l-7.72 7.72c-.78.78-.78 2.05 0 2.83L4 21.41c.39.39.9.59 1.41.59.51 0 1.02-.2 1.41-.59l7.78-7.78 2.81-2.81c.8-.78.8-2.07 0-2.86zM5.41 20L4 18.59l7.72-7.72 1.47 1.35L5.41 20z\"/>\n",
              "  </svg>\n",
              "      </button>\n",
              "      \n",
              "  <style>\n",
              "    .colab-df-container {\n",
              "      display:flex;\n",
              "      flex-wrap:wrap;\n",
              "      gap: 12px;\n",
              "    }\n",
              "\n",
              "    .colab-df-convert {\n",
              "      background-color: #E8F0FE;\n",
              "      border: none;\n",
              "      border-radius: 50%;\n",
              "      cursor: pointer;\n",
              "      display: none;\n",
              "      fill: #1967D2;\n",
              "      height: 32px;\n",
              "      padding: 0 0 0 0;\n",
              "      width: 32px;\n",
              "    }\n",
              "\n",
              "    .colab-df-convert:hover {\n",
              "      background-color: #E2EBFA;\n",
              "      box-shadow: 0px 1px 2px rgba(60, 64, 67, 0.3), 0px 1px 3px 1px rgba(60, 64, 67, 0.15);\n",
              "      fill: #174EA6;\n",
              "    }\n",
              "\n",
              "    [theme=dark] .colab-df-convert {\n",
              "      background-color: #3B4455;\n",
              "      fill: #D2E3FC;\n",
              "    }\n",
              "\n",
              "    [theme=dark] .colab-df-convert:hover {\n",
              "      background-color: #434B5C;\n",
              "      box-shadow: 0px 1px 3px 1px rgba(0, 0, 0, 0.15);\n",
              "      filter: drop-shadow(0px 1px 2px rgba(0, 0, 0, 0.3));\n",
              "      fill: #FFFFFF;\n",
              "    }\n",
              "  </style>\n",
              "\n",
              "      <script>\n",
              "        const buttonEl =\n",
              "          document.querySelector('#df-5e9c9f2b-8174-492e-bd5d-5bdf2df8ff6a button.colab-df-convert');\n",
              "        buttonEl.style.display =\n",
              "          google.colab.kernel.accessAllowed ? 'block' : 'none';\n",
              "\n",
              "        async function convertToInteractive(key) {\n",
              "          const element = document.querySelector('#df-5e9c9f2b-8174-492e-bd5d-5bdf2df8ff6a');\n",
              "          const dataTable =\n",
              "            await google.colab.kernel.invokeFunction('convertToInteractive',\n",
              "                                                     [key], {});\n",
              "          if (!dataTable) return;\n",
              "\n",
              "          const docLinkHtml = 'Like what you see? Visit the ' +\n",
              "            '<a target=\"_blank\" href=https://colab.research.google.com/notebooks/data_table.ipynb>data table notebook</a>'\n",
              "            + ' to learn more about interactive tables.';\n",
              "          element.innerHTML = '';\n",
              "          dataTable['output_type'] = 'display_data';\n",
              "          await google.colab.output.renderOutput(dataTable, element);\n",
              "          const docLink = document.createElement('div');\n",
              "          docLink.innerHTML = docLinkHtml;\n",
              "          element.appendChild(docLink);\n",
              "        }\n",
              "      </script>\n",
              "    </div>\n",
              "  </div>\n",
              "  "
            ]
          },
          "metadata": {},
          "execution_count": 21
        }
      ],
      "source": [
        "import pandas as pd\n",
        "import numpy as np\n",
        "import seaborn as sns\n",
        "import matplotlib.pyplot as plt\n",
        "%matplotlib inline\n",
        "sns.set(color_codes=True)\n",
        "\n",
        "df=pd.read_csv(\"AnimeWorld.csv\")\n",
        "df.head(5)"
      ]
    },
    {
      "cell_type": "code",
      "source": [
        "df.set_index(\"Anime\",inplace=True)\n",
        "df.head(5)"
      ],
      "metadata": {
        "colab": {
          "base_uri": "https://localhost:8080/",
          "height": 386
        },
        "id": "fV3lb8HGSdZ_",
        "outputId": "656ebb6e-cfd2-4280-a2d3-5602e78781cb"
      },
      "execution_count": 22,
      "outputs": [
        {
          "output_type": "execute_result",
          "data": {
            "text/plain": [
              "                                                                                              Genre  \\\n",
              "Anime                                                                                                 \n",
              "Re:Zero kara Hajimeru Isekai Seikatsu 2nd Season                   ['Drama', 'Fantasy', 'Suspense']   \n",
              "Kanojo, Okarishimasu                                                          ['Comedy', 'Romance']   \n",
              "The God of High School                              ['Action', 'Fantasy', 'Sci-Fi', 'Supernatural']   \n",
              "Maou Gakuin no Futekigousha: Shijou Saikyou no ...                            ['Action', 'Fantasy']   \n",
              "Enen no Shouboutai: Ni no Shou                                           ['Action', 'Supernatural']   \n",
              "\n",
              "                                                                                          Description  \\\n",
              "Anime                                                                                                   \n",
              "Re:Zero kara Hajimeru Isekai Seikatsu 2nd Season    A reunion that was supposed to spell the arriv...   \n",
              "Kanojo, Okarishimasu                                Kazuya Kinoshita is a 20-year-old college stud...   \n",
              "The God of High School                              The \"God of High School\" tournament has begun,...   \n",
              "Maou Gakuin no Futekigousha: Shijou Saikyou no ...  In the distant past, a war between humans and ...   \n",
              "Enen no Shouboutai: Ni no Shou                      After his confrontation in the Nether with his...   \n",
              "\n",
              "                                                               Studio  \\\n",
              "Anime                                                                   \n",
              "Re:Zero kara Hajimeru Isekai Seikatsu 2nd Season            White Fox   \n",
              "Kanojo, Okarishimasu                                TMS Entertainment   \n",
              "The God of High School                                          MAPPA   \n",
              "Maou Gakuin no Futekigousha: Shijou Saikyou no ...       SILVER LINK.   \n",
              "Enen no Shouboutai: Ni no Shou                       David Production   \n",
              "\n",
              "                                                            Year  Rating  \n",
              "Anime                                                                     \n",
              "Re:Zero kara Hajimeru Isekai Seikatsu 2nd Season     Jul 8, 2020    8.37  \n",
              "Kanojo, Okarishimasu                                Jul 11, 2020     NaN  \n",
              "The God of High School                               Jul 6, 2020     NaN  \n",
              "Maou Gakuin no Futekigousha: Shijou Saikyou no ...   Jul 4, 2020     NaN  \n",
              "Enen no Shouboutai: Ni no Shou                       Jul 4, 2020     NaN  "
            ],
            "text/html": [
              "\n",
              "  <div id=\"df-b6e21168-8e1c-407f-82ae-831eda7d51cd\">\n",
              "    <div class=\"colab-df-container\">\n",
              "      <div>\n",
              "<style scoped>\n",
              "    .dataframe tbody tr th:only-of-type {\n",
              "        vertical-align: middle;\n",
              "    }\n",
              "\n",
              "    .dataframe tbody tr th {\n",
              "        vertical-align: top;\n",
              "    }\n",
              "\n",
              "    .dataframe thead th {\n",
              "        text-align: right;\n",
              "    }\n",
              "</style>\n",
              "<table border=\"1\" class=\"dataframe\">\n",
              "  <thead>\n",
              "    <tr style=\"text-align: right;\">\n",
              "      <th></th>\n",
              "      <th>Genre</th>\n",
              "      <th>Description</th>\n",
              "      <th>Studio</th>\n",
              "      <th>Year</th>\n",
              "      <th>Rating</th>\n",
              "    </tr>\n",
              "    <tr>\n",
              "      <th>Anime</th>\n",
              "      <th></th>\n",
              "      <th></th>\n",
              "      <th></th>\n",
              "      <th></th>\n",
              "      <th></th>\n",
              "    </tr>\n",
              "  </thead>\n",
              "  <tbody>\n",
              "    <tr>\n",
              "      <th>Re:Zero kara Hajimeru Isekai Seikatsu 2nd Season</th>\n",
              "      <td>['Drama', 'Fantasy', 'Suspense']</td>\n",
              "      <td>A reunion that was supposed to spell the arriv...</td>\n",
              "      <td>White Fox</td>\n",
              "      <td>Jul 8, 2020</td>\n",
              "      <td>8.37</td>\n",
              "    </tr>\n",
              "    <tr>\n",
              "      <th>Kanojo, Okarishimasu</th>\n",
              "      <td>['Comedy', 'Romance']</td>\n",
              "      <td>Kazuya Kinoshita is a 20-year-old college stud...</td>\n",
              "      <td>TMS Entertainment</td>\n",
              "      <td>Jul 11, 2020</td>\n",
              "      <td>NaN</td>\n",
              "    </tr>\n",
              "    <tr>\n",
              "      <th>The God of High School</th>\n",
              "      <td>['Action', 'Fantasy', 'Sci-Fi', 'Supernatural']</td>\n",
              "      <td>The \"God of High School\" tournament has begun,...</td>\n",
              "      <td>MAPPA</td>\n",
              "      <td>Jul 6, 2020</td>\n",
              "      <td>NaN</td>\n",
              "    </tr>\n",
              "    <tr>\n",
              "      <th>Maou Gakuin no Futekigousha: Shijou Saikyou no Maou no Shiso, Tensei shite Shison-tachi no Gakkou e Kayou</th>\n",
              "      <td>['Action', 'Fantasy']</td>\n",
              "      <td>In the distant past, a war between humans and ...</td>\n",
              "      <td>SILVER LINK.</td>\n",
              "      <td>Jul 4, 2020</td>\n",
              "      <td>NaN</td>\n",
              "    </tr>\n",
              "    <tr>\n",
              "      <th>Enen no Shouboutai: Ni no Shou</th>\n",
              "      <td>['Action', 'Supernatural']</td>\n",
              "      <td>After his confrontation in the Nether with his...</td>\n",
              "      <td>David Production</td>\n",
              "      <td>Jul 4, 2020</td>\n",
              "      <td>NaN</td>\n",
              "    </tr>\n",
              "  </tbody>\n",
              "</table>\n",
              "</div>\n",
              "      <button class=\"colab-df-convert\" onclick=\"convertToInteractive('df-b6e21168-8e1c-407f-82ae-831eda7d51cd')\"\n",
              "              title=\"Convert this dataframe to an interactive table.\"\n",
              "              style=\"display:none;\">\n",
              "        \n",
              "  <svg xmlns=\"http://www.w3.org/2000/svg\" height=\"24px\"viewBox=\"0 0 24 24\"\n",
              "       width=\"24px\">\n",
              "    <path d=\"M0 0h24v24H0V0z\" fill=\"none\"/>\n",
              "    <path d=\"M18.56 5.44l.94 2.06.94-2.06 2.06-.94-2.06-.94-.94-2.06-.94 2.06-2.06.94zm-11 1L8.5 8.5l.94-2.06 2.06-.94-2.06-.94L8.5 2.5l-.94 2.06-2.06.94zm10 10l.94 2.06.94-2.06 2.06-.94-2.06-.94-.94-2.06-.94 2.06-2.06.94z\"/><path d=\"M17.41 7.96l-1.37-1.37c-.4-.4-.92-.59-1.43-.59-.52 0-1.04.2-1.43.59L10.3 9.45l-7.72 7.72c-.78.78-.78 2.05 0 2.83L4 21.41c.39.39.9.59 1.41.59.51 0 1.02-.2 1.41-.59l7.78-7.78 2.81-2.81c.8-.78.8-2.07 0-2.86zM5.41 20L4 18.59l7.72-7.72 1.47 1.35L5.41 20z\"/>\n",
              "  </svg>\n",
              "      </button>\n",
              "      \n",
              "  <style>\n",
              "    .colab-df-container {\n",
              "      display:flex;\n",
              "      flex-wrap:wrap;\n",
              "      gap: 12px;\n",
              "    }\n",
              "\n",
              "    .colab-df-convert {\n",
              "      background-color: #E8F0FE;\n",
              "      border: none;\n",
              "      border-radius: 50%;\n",
              "      cursor: pointer;\n",
              "      display: none;\n",
              "      fill: #1967D2;\n",
              "      height: 32px;\n",
              "      padding: 0 0 0 0;\n",
              "      width: 32px;\n",
              "    }\n",
              "\n",
              "    .colab-df-convert:hover {\n",
              "      background-color: #E2EBFA;\n",
              "      box-shadow: 0px 1px 2px rgba(60, 64, 67, 0.3), 0px 1px 3px 1px rgba(60, 64, 67, 0.15);\n",
              "      fill: #174EA6;\n",
              "    }\n",
              "\n",
              "    [theme=dark] .colab-df-convert {\n",
              "      background-color: #3B4455;\n",
              "      fill: #D2E3FC;\n",
              "    }\n",
              "\n",
              "    [theme=dark] .colab-df-convert:hover {\n",
              "      background-color: #434B5C;\n",
              "      box-shadow: 0px 1px 3px 1px rgba(0, 0, 0, 0.15);\n",
              "      filter: drop-shadow(0px 1px 2px rgba(0, 0, 0, 0.3));\n",
              "      fill: #FFFFFF;\n",
              "    }\n",
              "  </style>\n",
              "\n",
              "      <script>\n",
              "        const buttonEl =\n",
              "          document.querySelector('#df-b6e21168-8e1c-407f-82ae-831eda7d51cd button.colab-df-convert');\n",
              "        buttonEl.style.display =\n",
              "          google.colab.kernel.accessAllowed ? 'block' : 'none';\n",
              "\n",
              "        async function convertToInteractive(key) {\n",
              "          const element = document.querySelector('#df-b6e21168-8e1c-407f-82ae-831eda7d51cd');\n",
              "          const dataTable =\n",
              "            await google.colab.kernel.invokeFunction('convertToInteractive',\n",
              "                                                     [key], {});\n",
              "          if (!dataTable) return;\n",
              "\n",
              "          const docLinkHtml = 'Like what you see? Visit the ' +\n",
              "            '<a target=\"_blank\" href=https://colab.research.google.com/notebooks/data_table.ipynb>data table notebook</a>'\n",
              "            + ' to learn more about interactive tables.';\n",
              "          element.innerHTML = '';\n",
              "          dataTable['output_type'] = 'display_data';\n",
              "          await google.colab.output.renderOutput(dataTable, element);\n",
              "          const docLink = document.createElement('div');\n",
              "          docLink.innerHTML = docLinkHtml;\n",
              "          element.appendChild(docLink);\n",
              "        }\n",
              "      </script>\n",
              "    </div>\n",
              "  </div>\n",
              "  "
            ]
          },
          "metadata": {},
          "execution_count": 22
        }
      ]
    },
    {
      "cell_type": "code",
      "source": [
        "data=df['Description']\n",
        "print(data)"
      ],
      "metadata": {
        "colab": {
          "base_uri": "https://localhost:8080/"
        },
        "id": "3zx4UcegSp14",
        "outputId": "9ab049ed-c5ea-422b-e2a1-df52749b1eb8"
      },
      "execution_count": 24,
      "outputs": [
        {
          "output_type": "stream",
          "name": "stdout",
          "text": [
            "Anime\n",
            "Re:Zero kara Hajimeru Isekai Seikatsu 2nd Season                                                             A reunion that was supposed to spell the arriv...\n",
            "Kanojo, Okarishimasu                                                                                         Kazuya Kinoshita is a 20-year-old college stud...\n",
            "The God of High School                                                                                       The \"God of High School\" tournament has begun,...\n",
            "Maou Gakuin no Futekigousha: Shijou Saikyou no Maou no Shiso, Tensei shite Shison-tachi no Gakkou e Kayou    In the distant past, a war between humans and ...\n",
            "Enen no Shouboutai: Ni no Shou                                                                               After his confrontation in the Nether with his...\n",
            "                                                                                                                                   ...                        \n",
            "Estab-Life: Great Escape                                                                                     The distant future. After reaching its peak, E...\n",
            "Meitantei Conan: Zero no Tea Time                                                                            Anime adaptation of the spin-off manga Meitant...\n",
            "Yatogame-chan Kansatsu Nikki Yonsatsume                                                                         Fourth season of Yatogame-chan Kansatsu Nikki.\n",
            "Jantama Pong☆                                                                                                Based on characters from the free to play onli...\n",
            "Kenda Master Ken (TV)                                                                                        Ken Tamaki defeats corrupt organizations and e...\n",
            "Name: Description, Length: 2981, dtype: object\n"
          ]
        }
      ]
    },
    {
      "cell_type": "code",
      "source": [
        "df.info()"
      ],
      "metadata": {
        "colab": {
          "base_uri": "https://localhost:8080/"
        },
        "id": "ZP-Xc6evWTfq",
        "outputId": "092a506c-f48c-4c57-8b07-5257b3397830"
      },
      "execution_count": 25,
      "outputs": [
        {
          "output_type": "stream",
          "name": "stdout",
          "text": [
            "<class 'pandas.core.frame.DataFrame'>\n",
            "Index: 2981 entries, Re:Zero kara Hajimeru Isekai Seikatsu 2nd Season to Kenda Master Ken (TV)\n",
            "Data columns (total 5 columns):\n",
            " #   Column       Non-Null Count  Dtype  \n",
            "---  ------       --------------  -----  \n",
            " 0   Genre        2981 non-null   object \n",
            " 1   Description  2981 non-null   object \n",
            " 2   Studio       2895 non-null   object \n",
            " 3   Year         2981 non-null   object \n",
            " 4   Rating       276 non-null    float64\n",
            "dtypes: float64(1), object(4)\n",
            "memory usage: 204.3+ KB\n"
          ]
        }
      ]
    },
    {
      "cell_type": "code",
      "source": [
        "df.shape\n"
      ],
      "metadata": {
        "colab": {
          "base_uri": "https://localhost:8080/"
        },
        "id": "4a-mZLryWk-I",
        "outputId": "14b39cc3-bd95-462f-ba9b-cfab342a7961"
      },
      "execution_count": 28,
      "outputs": [
        {
          "output_type": "execute_result",
          "data": {
            "text/plain": [
              "(2981, 5)"
            ]
          },
          "metadata": {},
          "execution_count": 28
        }
      ]
    },
    {
      "cell_type": "code",
      "source": [
        "df.ndim"
      ],
      "metadata": {
        "colab": {
          "base_uri": "https://localhost:8080/"
        },
        "id": "ExrW-UQuWuW3",
        "outputId": "d7b473dd-b31a-499a-b3d2-9963782e5af2"
      },
      "execution_count": 29,
      "outputs": [
        {
          "output_type": "execute_result",
          "data": {
            "text/plain": [
              "2"
            ]
          },
          "metadata": {},
          "execution_count": 29
        }
      ]
    },
    {
      "cell_type": "code",
      "source": [
        "df=df.drop(['Studio'],axis=1)\n",
        "df.head(3)"
      ],
      "metadata": {
        "colab": {
          "base_uri": "https://localhost:8080/",
          "height": 271
        },
        "id": "zuCSg9SkW_3_",
        "outputId": "4bcfa3ab-c670-42a2-8708-aa2888353f7a"
      },
      "execution_count": 33,
      "outputs": [
        {
          "output_type": "execute_result",
          "data": {
            "text/plain": [
              "                                                                                            Genre  \\\n",
              "Anime                                                                                               \n",
              "Re:Zero kara Hajimeru Isekai Seikatsu 2nd Season                 ['Drama', 'Fantasy', 'Suspense']   \n",
              "Kanojo, Okarishimasu                                                        ['Comedy', 'Romance']   \n",
              "The God of High School                            ['Action', 'Fantasy', 'Sci-Fi', 'Supernatural']   \n",
              "\n",
              "                                                                                        Description  \\\n",
              "Anime                                                                                                 \n",
              "Re:Zero kara Hajimeru Isekai Seikatsu 2nd Season  A reunion that was supposed to spell the arriv...   \n",
              "Kanojo, Okarishimasu                              Kazuya Kinoshita is a 20-year-old college stud...   \n",
              "The God of High School                            The \"God of High School\" tournament has begun,...   \n",
              "\n",
              "                                                          Year  Rating  \n",
              "Anime                                                                   \n",
              "Re:Zero kara Hajimeru Isekai Seikatsu 2nd Season   Jul 8, 2020    8.37  \n",
              "Kanojo, Okarishimasu                              Jul 11, 2020     NaN  \n",
              "The God of High School                             Jul 6, 2020     NaN  "
            ],
            "text/html": [
              "\n",
              "  <div id=\"df-71e23866-b736-4427-a690-5ae9c309b2c8\">\n",
              "    <div class=\"colab-df-container\">\n",
              "      <div>\n",
              "<style scoped>\n",
              "    .dataframe tbody tr th:only-of-type {\n",
              "        vertical-align: middle;\n",
              "    }\n",
              "\n",
              "    .dataframe tbody tr th {\n",
              "        vertical-align: top;\n",
              "    }\n",
              "\n",
              "    .dataframe thead th {\n",
              "        text-align: right;\n",
              "    }\n",
              "</style>\n",
              "<table border=\"1\" class=\"dataframe\">\n",
              "  <thead>\n",
              "    <tr style=\"text-align: right;\">\n",
              "      <th></th>\n",
              "      <th>Genre</th>\n",
              "      <th>Description</th>\n",
              "      <th>Year</th>\n",
              "      <th>Rating</th>\n",
              "    </tr>\n",
              "    <tr>\n",
              "      <th>Anime</th>\n",
              "      <th></th>\n",
              "      <th></th>\n",
              "      <th></th>\n",
              "      <th></th>\n",
              "    </tr>\n",
              "  </thead>\n",
              "  <tbody>\n",
              "    <tr>\n",
              "      <th>Re:Zero kara Hajimeru Isekai Seikatsu 2nd Season</th>\n",
              "      <td>['Drama', 'Fantasy', 'Suspense']</td>\n",
              "      <td>A reunion that was supposed to spell the arriv...</td>\n",
              "      <td>Jul 8, 2020</td>\n",
              "      <td>8.37</td>\n",
              "    </tr>\n",
              "    <tr>\n",
              "      <th>Kanojo, Okarishimasu</th>\n",
              "      <td>['Comedy', 'Romance']</td>\n",
              "      <td>Kazuya Kinoshita is a 20-year-old college stud...</td>\n",
              "      <td>Jul 11, 2020</td>\n",
              "      <td>NaN</td>\n",
              "    </tr>\n",
              "    <tr>\n",
              "      <th>The God of High School</th>\n",
              "      <td>['Action', 'Fantasy', 'Sci-Fi', 'Supernatural']</td>\n",
              "      <td>The \"God of High School\" tournament has begun,...</td>\n",
              "      <td>Jul 6, 2020</td>\n",
              "      <td>NaN</td>\n",
              "    </tr>\n",
              "  </tbody>\n",
              "</table>\n",
              "</div>\n",
              "      <button class=\"colab-df-convert\" onclick=\"convertToInteractive('df-71e23866-b736-4427-a690-5ae9c309b2c8')\"\n",
              "              title=\"Convert this dataframe to an interactive table.\"\n",
              "              style=\"display:none;\">\n",
              "        \n",
              "  <svg xmlns=\"http://www.w3.org/2000/svg\" height=\"24px\"viewBox=\"0 0 24 24\"\n",
              "       width=\"24px\">\n",
              "    <path d=\"M0 0h24v24H0V0z\" fill=\"none\"/>\n",
              "    <path d=\"M18.56 5.44l.94 2.06.94-2.06 2.06-.94-2.06-.94-.94-2.06-.94 2.06-2.06.94zm-11 1L8.5 8.5l.94-2.06 2.06-.94-2.06-.94L8.5 2.5l-.94 2.06-2.06.94zm10 10l.94 2.06.94-2.06 2.06-.94-2.06-.94-.94-2.06-.94 2.06-2.06.94z\"/><path d=\"M17.41 7.96l-1.37-1.37c-.4-.4-.92-.59-1.43-.59-.52 0-1.04.2-1.43.59L10.3 9.45l-7.72 7.72c-.78.78-.78 2.05 0 2.83L4 21.41c.39.39.9.59 1.41.59.51 0 1.02-.2 1.41-.59l7.78-7.78 2.81-2.81c.8-.78.8-2.07 0-2.86zM5.41 20L4 18.59l7.72-7.72 1.47 1.35L5.41 20z\"/>\n",
              "  </svg>\n",
              "      </button>\n",
              "      \n",
              "  <style>\n",
              "    .colab-df-container {\n",
              "      display:flex;\n",
              "      flex-wrap:wrap;\n",
              "      gap: 12px;\n",
              "    }\n",
              "\n",
              "    .colab-df-convert {\n",
              "      background-color: #E8F0FE;\n",
              "      border: none;\n",
              "      border-radius: 50%;\n",
              "      cursor: pointer;\n",
              "      display: none;\n",
              "      fill: #1967D2;\n",
              "      height: 32px;\n",
              "      padding: 0 0 0 0;\n",
              "      width: 32px;\n",
              "    }\n",
              "\n",
              "    .colab-df-convert:hover {\n",
              "      background-color: #E2EBFA;\n",
              "      box-shadow: 0px 1px 2px rgba(60, 64, 67, 0.3), 0px 1px 3px 1px rgba(60, 64, 67, 0.15);\n",
              "      fill: #174EA6;\n",
              "    }\n",
              "\n",
              "    [theme=dark] .colab-df-convert {\n",
              "      background-color: #3B4455;\n",
              "      fill: #D2E3FC;\n",
              "    }\n",
              "\n",
              "    [theme=dark] .colab-df-convert:hover {\n",
              "      background-color: #434B5C;\n",
              "      box-shadow: 0px 1px 3px 1px rgba(0, 0, 0, 0.15);\n",
              "      filter: drop-shadow(0px 1px 2px rgba(0, 0, 0, 0.3));\n",
              "      fill: #FFFFFF;\n",
              "    }\n",
              "  </style>\n",
              "\n",
              "      <script>\n",
              "        const buttonEl =\n",
              "          document.querySelector('#df-71e23866-b736-4427-a690-5ae9c309b2c8 button.colab-df-convert');\n",
              "        buttonEl.style.display =\n",
              "          google.colab.kernel.accessAllowed ? 'block' : 'none';\n",
              "\n",
              "        async function convertToInteractive(key) {\n",
              "          const element = document.querySelector('#df-71e23866-b736-4427-a690-5ae9c309b2c8');\n",
              "          const dataTable =\n",
              "            await google.colab.kernel.invokeFunction('convertToInteractive',\n",
              "                                                     [key], {});\n",
              "          if (!dataTable) return;\n",
              "\n",
              "          const docLinkHtml = 'Like what you see? Visit the ' +\n",
              "            '<a target=\"_blank\" href=https://colab.research.google.com/notebooks/data_table.ipynb>data table notebook</a>'\n",
              "            + ' to learn more about interactive tables.';\n",
              "          element.innerHTML = '';\n",
              "          dataTable['output_type'] = 'display_data';\n",
              "          await google.colab.output.renderOutput(dataTable, element);\n",
              "          const docLink = document.createElement('div');\n",
              "          docLink.innerHTML = docLinkHtml;\n",
              "          element.appendChild(docLink);\n",
              "        }\n",
              "      </script>\n",
              "    </div>\n",
              "  </div>\n",
              "  "
            ]
          },
          "metadata": {},
          "execution_count": 33
        }
      ]
    },
    {
      "cell_type": "code",
      "source": [
        "df=df.drop_duplicates(subset='Year',keep='first')\n",
        "df.count()"
      ],
      "metadata": {
        "colab": {
          "base_uri": "https://localhost:8080/"
        },
        "id": "K2n_sxiNYAMj",
        "outputId": "06bf60ed-3922-404d-ff46-bb2bbbf3b9dc"
      },
      "execution_count": 35,
      "outputs": [
        {
          "output_type": "execute_result",
          "data": {
            "text/plain": [
              "Genre          1399\n",
              "Description    1399\n",
              "Year           1399\n",
              "Rating          184\n",
              "dtype: int64"
            ]
          },
          "metadata": {},
          "execution_count": 35
        }
      ]
    },
    {
      "cell_type": "code",
      "source": [
        "print(df.isnull().sum())"
      ],
      "metadata": {
        "colab": {
          "base_uri": "https://localhost:8080/"
        },
        "id": "d6YfrxI4YngD",
        "outputId": "7c300090-db73-4a6b-fe28-410de5fce70b"
      },
      "execution_count": 36,
      "outputs": [
        {
          "output_type": "stream",
          "name": "stdout",
          "text": [
            "Genre             0\n",
            "Description       0\n",
            "Year              0\n",
            "Rating         1215\n",
            "dtype: int64\n"
          ]
        }
      ]
    },
    {
      "cell_type": "code",
      "source": [
        "df['Year']=pd.to_datetime(df['Year'])\n"
      ],
      "metadata": {
        "colab": {
          "base_uri": "https://localhost:8080/"
        },
        "id": "oPewDrUyZ1d6",
        "outputId": "78a59827-2222-4949-d8a9-e3886542f95a"
      },
      "execution_count": 39,
      "outputs": [
        {
          "output_type": "stream",
          "name": "stderr",
          "text": [
            "<ipython-input-39-462961ce1e50>:1: SettingWithCopyWarning: \n",
            "A value is trying to be set on a copy of a slice from a DataFrame.\n",
            "Try using .loc[row_indexer,col_indexer] = value instead\n",
            "\n",
            "See the caveats in the documentation: https://pandas.pydata.org/pandas-docs/stable/user_guide/indexing.html#returning-a-view-versus-a-copy\n",
            "  df['Year']=pd.to_datetime(df['Year'])\n"
          ]
        }
      ]
    },
    {
      "cell_type": "code",
      "source": [
        "df.info()"
      ],
      "metadata": {
        "colab": {
          "base_uri": "https://localhost:8080/"
        },
        "id": "xy2FS49BbuIx",
        "outputId": "6a53419d-db0c-411c-a41e-2958a0f28041"
      },
      "execution_count": 40,
      "outputs": [
        {
          "output_type": "stream",
          "name": "stdout",
          "text": [
            "<class 'pandas.core.frame.DataFrame'>\n",
            "Index: 1399 entries, Re:Zero kara Hajimeru Isekai Seikatsu 2nd Season to Kenda Master Ken (TV)\n",
            "Data columns (total 4 columns):\n",
            " #   Column       Non-Null Count  Dtype         \n",
            "---  ------       --------------  -----         \n",
            " 0   Genre        1399 non-null   object        \n",
            " 1   Description  1399 non-null   object        \n",
            " 2   Year         1399 non-null   datetime64[ns]\n",
            " 3   Rating       184 non-null    float64       \n",
            "dtypes: datetime64[ns](1), float64(1), object(2)\n",
            "memory usage: 86.9+ KB\n"
          ]
        }
      ]
    },
    {
      "cell_type": "code",
      "source": [
        "df['Years']=df['Year'].apply(lambda x: x.year)"
      ],
      "metadata": {
        "colab": {
          "base_uri": "https://localhost:8080/"
        },
        "id": "AoVjx3HkcMYx",
        "outputId": "f8424256-b266-4685-b37a-4ce6b01aee7f"
      },
      "execution_count": 43,
      "outputs": [
        {
          "output_type": "stream",
          "name": "stderr",
          "text": [
            "<ipython-input-43-2577cae7489e>:1: SettingWithCopyWarning: \n",
            "A value is trying to be set on a copy of a slice from a DataFrame.\n",
            "Try using .loc[row_indexer,col_indexer] = value instead\n",
            "\n",
            "See the caveats in the documentation: https://pandas.pydata.org/pandas-docs/stable/user_guide/indexing.html#returning-a-view-versus-a-copy\n",
            "  df['Years']=df['Year'].apply(lambda x: x.year)\n"
          ]
        }
      ]
    },
    {
      "cell_type": "code",
      "source": [
        "sns.boxplot(x=df['Years'])"
      ],
      "metadata": {
        "colab": {
          "base_uri": "https://localhost:8080/",
          "height": 302
        },
        "id": "bmFly34yeSiN",
        "outputId": "c1e17650-0388-43d3-e1c2-c5630a9d5f52"
      },
      "execution_count": 46,
      "outputs": [
        {
          "output_type": "execute_result",
          "data": {
            "text/plain": [
              "<matplotlib.axes._subplots.AxesSubplot at 0x7f35f5dc96a0>"
            ]
          },
          "metadata": {},
          "execution_count": 46
        },
        {
          "output_type": "display_data",
          "data": {
            "text/plain": [
              "<Figure size 432x288 with 1 Axes>"
            ],
            "image/png": "[encoded data removed]"
          },
          "metadata": {}
        }
      ]
    },
    {
      "cell_type": "code",
      "source": [
        "print(np.where(df['Years']<1990))"
      ],
      "metadata": {
        "colab": {
          "base_uri": "https://localhost:8080/"
        },
        "id": "p0xirmQffqHR",
        "outputId": "b5d9e3e2-e0dd-422c-e9c4-1c290062be83"
      },
      "execution_count": 47,
      "outputs": [
        {
          "output_type": "stream",
          "name": "stdout",
          "text": [
            "(array([28]),)\n"
          ]
        }
      ]
    }
  ]
}